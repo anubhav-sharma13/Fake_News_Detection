{
  "nbformat": 4,
  "nbformat_minor": 0,
  "metadata": {
    "colab": {
      "name": "bert.ipynb",
      "provenance": [],
      "collapsed_sections": []
    },
    "kernelspec": {
      "name": "python3",
      "display_name": "Python 3"
    },
    "accelerator": "GPU"
  },
  "cells": [
    {
      "cell_type": "code",
      "metadata": {
        "id": "oYsV4H8fCpZ-",
        "colab": {
          "base_uri": "https://localhost:8080/"
        },
        "outputId": "6948138d-380c-4586-fc2c-0cfed7011144"
      },
      "source": [
        "import torch\n",
        "\n",
        "# Get the GPU\n",
        "if torch.cuda.is_available():        \n",
        "    device = torch.device(\"cuda\")\n",
        "else:\n",
        "    device = torch.device(\"cpu\")\n",
        "print(device)"
      ],
      "execution_count": null,
      "outputs": [
        {
          "output_type": "stream",
          "text": [
            "cuda\n"
          ],
          "name": "stdout"
        }
      ]
    },
    {
      "cell_type": "code",
      "metadata": {
        "id": "0NmMdkZO8R6q",
        "colab": {
          "base_uri": "https://localhost:8080/"
        },
        "outputId": "acdae031-7a51-42bd-a0b3-1e1a638db646"
      },
      "source": [
        "!pip install transformers"
      ],
      "execution_count": null,
      "outputs": [
        {
          "output_type": "stream",
          "text": [
            "Collecting transformers\n",
            "\u001b[?25l  Downloading https://files.pythonhosted.org/packages/2c/4e/4f1ede0fd7a36278844a277f8d53c21f88f37f3754abf76a5d6224f76d4a/transformers-3.4.0-py3-none-any.whl (1.3MB)\n",
            "\r\u001b[K     |▎                               | 10kB 20.5MB/s eta 0:00:01\r\u001b[K     |▌                               | 20kB 26.9MB/s eta 0:00:01\r\u001b[K     |▉                               | 30kB 19.8MB/s eta 0:00:01\r\u001b[K     |█                               | 40kB 16.5MB/s eta 0:00:01\r\u001b[K     |█▎                              | 51kB 13.1MB/s eta 0:00:01\r\u001b[K     |█▋                              | 61kB 13.2MB/s eta 0:00:01\r\u001b[K     |█▉                              | 71kB 12.7MB/s eta 0:00:01\r\u001b[K     |██                              | 81kB 11.1MB/s eta 0:00:01\r\u001b[K     |██▍                             | 92kB 11.2MB/s eta 0:00:01\r\u001b[K     |██▋                             | 102kB 11.0MB/s eta 0:00:01\r\u001b[K     |██▉                             | 112kB 11.0MB/s eta 0:00:01\r\u001b[K     |███▏                            | 122kB 11.0MB/s eta 0:00:01\r\u001b[K     |███▍                            | 133kB 11.0MB/s eta 0:00:01\r\u001b[K     |███▋                            | 143kB 11.0MB/s eta 0:00:01\r\u001b[K     |████                            | 153kB 11.0MB/s eta 0:00:01\r\u001b[K     |████▏                           | 163kB 11.0MB/s eta 0:00:01\r\u001b[K     |████▍                           | 174kB 11.0MB/s eta 0:00:01\r\u001b[K     |████▊                           | 184kB 11.0MB/s eta 0:00:01\r\u001b[K     |█████                           | 194kB 11.0MB/s eta 0:00:01\r\u001b[K     |█████▏                          | 204kB 11.0MB/s eta 0:00:01\r\u001b[K     |█████▌                          | 215kB 11.0MB/s eta 0:00:01\r\u001b[K     |█████▊                          | 225kB 11.0MB/s eta 0:00:01\r\u001b[K     |██████                          | 235kB 11.0MB/s eta 0:00:01\r\u001b[K     |██████▎                         | 245kB 11.0MB/s eta 0:00:01\r\u001b[K     |██████▌                         | 256kB 11.0MB/s eta 0:00:01\r\u001b[K     |██████▊                         | 266kB 11.0MB/s eta 0:00:01\r\u001b[K     |███████                         | 276kB 11.0MB/s eta 0:00:01\r\u001b[K     |███████▎                        | 286kB 11.0MB/s eta 0:00:01\r\u001b[K     |███████▋                        | 296kB 11.0MB/s eta 0:00:01\r\u001b[K     |███████▉                        | 307kB 11.0MB/s eta 0:00:01\r\u001b[K     |████████                        | 317kB 11.0MB/s eta 0:00:01\r\u001b[K     |████████▍                       | 327kB 11.0MB/s eta 0:00:01\r\u001b[K     |████████▋                       | 337kB 11.0MB/s eta 0:00:01\r\u001b[K     |████████▉                       | 348kB 11.0MB/s eta 0:00:01\r\u001b[K     |█████████▏                      | 358kB 11.0MB/s eta 0:00:01\r\u001b[K     |█████████▍                      | 368kB 11.0MB/s eta 0:00:01\r\u001b[K     |█████████▋                      | 378kB 11.0MB/s eta 0:00:01\r\u001b[K     |██████████                      | 389kB 11.0MB/s eta 0:00:01\r\u001b[K     |██████████▏                     | 399kB 11.0MB/s eta 0:00:01\r\u001b[K     |██████████▍                     | 409kB 11.0MB/s eta 0:00:01\r\u001b[K     |██████████▊                     | 419kB 11.0MB/s eta 0:00:01\r\u001b[K     |███████████                     | 430kB 11.0MB/s eta 0:00:01\r\u001b[K     |███████████▏                    | 440kB 11.0MB/s eta 0:00:01\r\u001b[K     |███████████▌                    | 450kB 11.0MB/s eta 0:00:01\r\u001b[K     |███████████▊                    | 460kB 11.0MB/s eta 0:00:01\r\u001b[K     |████████████                    | 471kB 11.0MB/s eta 0:00:01\r\u001b[K     |████████████▎                   | 481kB 11.0MB/s eta 0:00:01\r\u001b[K     |████████████▌                   | 491kB 11.0MB/s eta 0:00:01\r\u001b[K     |████████████▊                   | 501kB 11.0MB/s eta 0:00:01\r\u001b[K     |█████████████                   | 512kB 11.0MB/s eta 0:00:01\r\u001b[K     |█████████████▎                  | 522kB 11.0MB/s eta 0:00:01\r\u001b[K     |█████████████▌                  | 532kB 11.0MB/s eta 0:00:01\r\u001b[K     |█████████████▉                  | 542kB 11.0MB/s eta 0:00:01\r\u001b[K     |██████████████                  | 552kB 11.0MB/s eta 0:00:01\r\u001b[K     |██████████████▍                 | 563kB 11.0MB/s eta 0:00:01\r\u001b[K     |██████████████▋                 | 573kB 11.0MB/s eta 0:00:01\r\u001b[K     |██████████████▉                 | 583kB 11.0MB/s eta 0:00:01\r\u001b[K     |███████████████▏                | 593kB 11.0MB/s eta 0:00:01\r\u001b[K     |███████████████▍                | 604kB 11.0MB/s eta 0:00:01\r\u001b[K     |███████████████▋                | 614kB 11.0MB/s eta 0:00:01\r\u001b[K     |████████████████                | 624kB 11.0MB/s eta 0:00:01\r\u001b[K     |████████████████▏               | 634kB 11.0MB/s eta 0:00:01\r\u001b[K     |████████████████▍               | 645kB 11.0MB/s eta 0:00:01\r\u001b[K     |████████████████▊               | 655kB 11.0MB/s eta 0:00:01\r\u001b[K     |█████████████████               | 665kB 11.0MB/s eta 0:00:01\r\u001b[K     |█████████████████▏              | 675kB 11.0MB/s eta 0:00:01\r\u001b[K     |█████████████████▌              | 686kB 11.0MB/s eta 0:00:01\r\u001b[K     |█████████████████▊              | 696kB 11.0MB/s eta 0:00:01\r\u001b[K     |██████████████████              | 706kB 11.0MB/s eta 0:00:01\r\u001b[K     |██████████████████▎             | 716kB 11.0MB/s eta 0:00:01\r\u001b[K     |██████████████████▌             | 727kB 11.0MB/s eta 0:00:01\r\u001b[K     |██████████████████▊             | 737kB 11.0MB/s eta 0:00:01\r\u001b[K     |███████████████████             | 747kB 11.0MB/s eta 0:00:01\r\u001b[K     |███████████████████▎            | 757kB 11.0MB/s eta 0:00:01\r\u001b[K     |███████████████████▌            | 768kB 11.0MB/s eta 0:00:01\r\u001b[K     |███████████████████▉            | 778kB 11.0MB/s eta 0:00:01\r\u001b[K     |████████████████████            | 788kB 11.0MB/s eta 0:00:01\r\u001b[K     |████████████████████▎           | 798kB 11.0MB/s eta 0:00:01\r\u001b[K     |████████████████████▋           | 808kB 11.0MB/s eta 0:00:01\r\u001b[K     |████████████████████▉           | 819kB 11.0MB/s eta 0:00:01\r\u001b[K     |█████████████████████           | 829kB 11.0MB/s eta 0:00:01\r\u001b[K     |█████████████████████▍          | 839kB 11.0MB/s eta 0:00:01\r\u001b[K     |█████████████████████▋          | 849kB 11.0MB/s eta 0:00:01\r\u001b[K     |██████████████████████          | 860kB 11.0MB/s eta 0:00:01\r\u001b[K     |██████████████████████▏         | 870kB 11.0MB/s eta 0:00:01\r\u001b[K     |██████████████████████▍         | 880kB 11.0MB/s eta 0:00:01\r\u001b[K     |██████████████████████▊         | 890kB 11.0MB/s eta 0:00:01\r\u001b[K     |███████████████████████         | 901kB 11.0MB/s eta 0:00:01\r\u001b[K     |███████████████████████▏        | 911kB 11.0MB/s eta 0:00:01\r\u001b[K     |███████████████████████▌        | 921kB 11.0MB/s eta 0:00:01\r\u001b[K     |███████████████████████▊        | 931kB 11.0MB/s eta 0:00:01\r\u001b[K     |████████████████████████        | 942kB 11.0MB/s eta 0:00:01\r\u001b[K     |████████████████████████▎       | 952kB 11.0MB/s eta 0:00:01\r\u001b[K     |████████████████████████▌       | 962kB 11.0MB/s eta 0:00:01\r\u001b[K     |████████████████████████▊       | 972kB 11.0MB/s eta 0:00:01\r\u001b[K     |█████████████████████████       | 983kB 11.0MB/s eta 0:00:01\r\u001b[K     |█████████████████████████▎      | 993kB 11.0MB/s eta 0:00:01\r\u001b[K     |█████████████████████████▌      | 1.0MB 11.0MB/s eta 0:00:01\r\u001b[K     |█████████████████████████▉      | 1.0MB 11.0MB/s eta 0:00:01\r\u001b[K     |██████████████████████████      | 1.0MB 11.0MB/s eta 0:00:01\r\u001b[K     |██████████████████████████▎     | 1.0MB 11.0MB/s eta 0:00:01\r\u001b[K     |██████████████████████████▋     | 1.0MB 11.0MB/s eta 0:00:01\r\u001b[K     |██████████████████████████▉     | 1.1MB 11.0MB/s eta 0:00:01\r\u001b[K     |███████████████████████████     | 1.1MB 11.0MB/s eta 0:00:01\r\u001b[K     |███████████████████████████▍    | 1.1MB 11.0MB/s eta 0:00:01\r\u001b[K     |███████████████████████████▋    | 1.1MB 11.0MB/s eta 0:00:01\r\u001b[K     |███████████████████████████▉    | 1.1MB 11.0MB/s eta 0:00:01\r\u001b[K     |████████████████████████████▏   | 1.1MB 11.0MB/s eta 0:00:01\r\u001b[K     |████████████████████████████▍   | 1.1MB 11.0MB/s eta 0:00:01\r\u001b[K     |████████████████████████████▊   | 1.1MB 11.0MB/s eta 0:00:01\r\u001b[K     |█████████████████████████████   | 1.1MB 11.0MB/s eta 0:00:01\r\u001b[K     |█████████████████████████████▏  | 1.1MB 11.0MB/s eta 0:00:01\r\u001b[K     |█████████████████████████████▌  | 1.2MB 11.0MB/s eta 0:00:01\r\u001b[K     |█████████████████████████████▊  | 1.2MB 11.0MB/s eta 0:00:01\r\u001b[K     |██████████████████████████████  | 1.2MB 11.0MB/s eta 0:00:01\r\u001b[K     |██████████████████████████████▎ | 1.2MB 11.0MB/s eta 0:00:01\r\u001b[K     |██████████████████████████████▌ | 1.2MB 11.0MB/s eta 0:00:01\r\u001b[K     |██████████████████████████████▊ | 1.2MB 11.0MB/s eta 0:00:01\r\u001b[K     |███████████████████████████████ | 1.2MB 11.0MB/s eta 0:00:01\r\u001b[K     |███████████████████████████████▎| 1.2MB 11.0MB/s eta 0:00:01\r\u001b[K     |███████████████████████████████▌| 1.2MB 11.0MB/s eta 0:00:01\r\u001b[K     |███████████████████████████████▉| 1.2MB 11.0MB/s eta 0:00:01\r\u001b[K     |████████████████████████████████| 1.3MB 11.0MB/s \n",
            "\u001b[?25hRequirement already satisfied: tqdm>=4.27 in /usr/local/lib/python3.6/dist-packages (from transformers) (4.41.1)\n",
            "Requirement already satisfied: regex!=2019.12.17 in /usr/local/lib/python3.6/dist-packages (from transformers) (2019.12.20)\n",
            "Requirement already satisfied: numpy in /usr/local/lib/python3.6/dist-packages (from transformers) (1.18.5)\n",
            "Requirement already satisfied: protobuf in /usr/local/lib/python3.6/dist-packages (from transformers) (3.12.4)\n",
            "Requirement already satisfied: requests in /usr/local/lib/python3.6/dist-packages (from transformers) (2.23.0)\n",
            "Collecting sentencepiece!=0.1.92\n",
            "\u001b[?25l  Downloading https://files.pythonhosted.org/packages/e5/2d/6d4ca4bef9a67070fa1cac508606328329152b1df10bdf31fb6e4e727894/sentencepiece-0.1.94-cp36-cp36m-manylinux2014_x86_64.whl (1.1MB)\n",
            "\u001b[K     |████████████████████████████████| 1.1MB 50.4MB/s \n",
            "\u001b[?25hCollecting sacremoses\n",
            "\u001b[?25l  Downloading https://files.pythonhosted.org/packages/7d/34/09d19aff26edcc8eb2a01bed8e98f13a1537005d31e95233fd48216eed10/sacremoses-0.0.43.tar.gz (883kB)\n",
            "\u001b[K     |████████████████████████████████| 890kB 54.1MB/s \n",
            "\u001b[?25hRequirement already satisfied: filelock in /usr/local/lib/python3.6/dist-packages (from transformers) (3.0.12)\n",
            "Requirement already satisfied: dataclasses; python_version < \"3.7\" in /usr/local/lib/python3.6/dist-packages (from transformers) (0.7)\n",
            "Requirement already satisfied: packaging in /usr/local/lib/python3.6/dist-packages (from transformers) (20.4)\n",
            "Collecting tokenizers==0.9.2\n",
            "\u001b[?25l  Downloading https://files.pythonhosted.org/packages/7c/a5/78be1a55b2ac8d6a956f0a211d372726e2b1dd2666bb537fea9b03abd62c/tokenizers-0.9.2-cp36-cp36m-manylinux1_x86_64.whl (2.9MB)\n",
            "\u001b[K     |████████████████████████████████| 2.9MB 50.4MB/s \n",
            "\u001b[?25hRequirement already satisfied: setuptools in /usr/local/lib/python3.6/dist-packages (from protobuf->transformers) (50.3.2)\n",
            "Requirement already satisfied: six>=1.9 in /usr/local/lib/python3.6/dist-packages (from protobuf->transformers) (1.15.0)\n",
            "Requirement already satisfied: certifi>=2017.4.17 in /usr/local/lib/python3.6/dist-packages (from requests->transformers) (2020.6.20)\n",
            "Requirement already satisfied: chardet<4,>=3.0.2 in /usr/local/lib/python3.6/dist-packages (from requests->transformers) (3.0.4)\n",
            "Requirement already satisfied: idna<3,>=2.5 in /usr/local/lib/python3.6/dist-packages (from requests->transformers) (2.10)\n",
            "Requirement already satisfied: urllib3!=1.25.0,!=1.25.1,<1.26,>=1.21.1 in /usr/local/lib/python3.6/dist-packages (from requests->transformers) (1.24.3)\n",
            "Requirement already satisfied: click in /usr/local/lib/python3.6/dist-packages (from sacremoses->transformers) (7.1.2)\n",
            "Requirement already satisfied: joblib in /usr/local/lib/python3.6/dist-packages (from sacremoses->transformers) (0.17.0)\n",
            "Requirement already satisfied: pyparsing>=2.0.2 in /usr/local/lib/python3.6/dist-packages (from packaging->transformers) (2.4.7)\n",
            "Building wheels for collected packages: sacremoses\n",
            "  Building wheel for sacremoses (setup.py) ... \u001b[?25l\u001b[?25hdone\n",
            "  Created wheel for sacremoses: filename=sacremoses-0.0.43-cp36-none-any.whl size=893257 sha256=a77a3f7cfe12604d22c836433cb4c2c4e19cb6da69a44badd73514237f388c02\n",
            "  Stored in directory: /root/.cache/pip/wheels/29/3c/fd/7ce5c3f0666dab31a50123635e6fb5e19ceb42ce38d4e58f45\n",
            "Successfully built sacremoses\n",
            "Installing collected packages: sentencepiece, sacremoses, tokenizers, transformers\n",
            "Successfully installed sacremoses-0.0.43 sentencepiece-0.1.94 tokenizers-0.9.2 transformers-3.4.0\n"
          ],
          "name": "stdout"
        }
      ]
    },
    {
      "cell_type": "code",
      "metadata": {
        "id": "IdWf7hQlt2OI",
        "colab": {
          "base_uri": "https://localhost:8080/"
        },
        "outputId": "5ceb7e05-5628-4c6e-da19-9d0c9343783f"
      },
      "source": [
        "from google.colab import drive\n",
        "drive.mount('/content/drive')"
      ],
      "execution_count": null,
      "outputs": [
        {
          "output_type": "stream",
          "text": [
            "Mounted at /content/drive\n"
          ],
          "name": "stdout"
        }
      ]
    },
    {
      "cell_type": "code",
      "metadata": {
        "id": "th1nMaH6uPom",
        "colab": {
          "base_uri": "https://localhost:8080/"
        },
        "outputId": "f8bc1b3b-bdee-43f4-e241-880a6a549c42"
      },
      "source": [
        "import zipfile\n",
        "!unzip /content/drive/\"My Drive\"/\"Colab Notebooks\"/sample.zip"
      ],
      "execution_count": null,
      "outputs": [
        {
          "output_type": "stream",
          "text": [
            "Archive:  /content/drive/My Drive/Colab Notebooks/sample.zip\n",
            "  inflating: sample100k.csv          \n"
          ],
          "name": "stdout"
        }
      ]
    },
    {
      "cell_type": "code",
      "metadata": {
        "id": "_UkeC7SG2krJ",
        "colab": {
          "base_uri": "https://localhost:8080/",
          "height": 376
        },
        "outputId": "7f44542f-f5a0-405c-fc0d-9816458cbac0"
      },
      "source": [
        "import pandas as pd\n",
        "\n",
        "# Load the dataset into a pandas dataframe.\n",
        "df = pd.read_csv(\"sample100k.csv\")\n",
        "\n",
        "print(df.shape[0])\n",
        "df['label'] = (df['label'] == 2).astype('int')\n",
        "df = df[pd.notnull(df['title'])]\n",
        "df.sample(10)"
      ],
      "execution_count": null,
      "outputs": [
        {
          "output_type": "stream",
          "text": [
            "100000\n"
          ],
          "name": "stdout"
        },
        {
          "output_type": "execute_result",
          "data": {
            "text/html": [
              "<div>\n",
              "<style scoped>\n",
              "    .dataframe tbody tr th:only-of-type {\n",
              "        vertical-align: middle;\n",
              "    }\n",
              "\n",
              "    .dataframe tbody tr th {\n",
              "        vertical-align: top;\n",
              "    }\n",
              "\n",
              "    .dataframe thead th {\n",
              "        text-align: right;\n",
              "    }\n",
              "</style>\n",
              "<table border=\"1\" class=\"dataframe\">\n",
              "  <thead>\n",
              "    <tr style=\"text-align: right;\">\n",
              "      <th></th>\n",
              "      <th>Unnamed: 0</th>\n",
              "      <th>body</th>\n",
              "      <th>title</th>\n",
              "      <th>label</th>\n",
              "    </tr>\n",
              "  </thead>\n",
              "  <tbody>\n",
              "    <tr>\n",
              "      <th>5761</th>\n",
              "      <td>253455</td>\n",
              "      <td>Carter Page insists he was never worried about...</td>\n",
              "      <td>Carter Page Insists He Was Never Worried About...</td>\n",
              "      <td>1</td>\n",
              "    </tr>\n",
              "    <tr>\n",
              "      <th>24226</th>\n",
              "      <td>177107</td>\n",
              "      <td>As with all WorldTour races, each of the 18 te...</td>\n",
              "      <td>Liege-Bastogne-Liege 2019 provisional startlis...</td>\n",
              "      <td>0</td>\n",
              "    </tr>\n",
              "    <tr>\n",
              "      <th>29674</th>\n",
              "      <td>134982</td>\n",
              "      <td>France’s new health ministry committee has met...</td>\n",
              "      <td>Babies in rural regions of France keep being b...</td>\n",
              "      <td>0</td>\n",
              "    </tr>\n",
              "    <tr>\n",
              "      <th>49594</th>\n",
              "      <td>143209</td>\n",
              "      <td>France’s yellow vests, coming together in info...</td>\n",
              "      <td>Forgotten France Rises Up</td>\n",
              "      <td>1</td>\n",
              "    </tr>\n",
              "    <tr>\n",
              "      <th>6048</th>\n",
              "      <td>212509</td>\n",
              "      <td>Embattled Hollywood producer Harvey Weinstein ...</td>\n",
              "      <td>Harvey Weinstein faces new legal battle over '...</td>\n",
              "      <td>0</td>\n",
              "    </tr>\n",
              "    <tr>\n",
              "      <th>46571</th>\n",
              "      <td>52772</td>\n",
              "      <td>A conman bankrolled his son’s £44,000 bar mitz...</td>\n",
              "      <td>Conman used £100,000 jewels scam to pay for so...</td>\n",
              "      <td>0</td>\n",
              "    </tr>\n",
              "    <tr>\n",
              "      <th>53262</th>\n",
              "      <td>279290</td>\n",
              "      <td>Maryland's Republican Gov. Larry Hogan says th...</td>\n",
              "      <td>Larry Hogan: Trump looks \"pretty weak\" for 202...</td>\n",
              "      <td>0</td>\n",
              "    </tr>\n",
              "    <tr>\n",
              "      <th>45674</th>\n",
              "      <td>4100</td>\n",
              "      <td>Sen. Elizabeth Warren, D-Mass., suggested on S...</td>\n",
              "      <td>Warren compares herself, ‘green manufacturing ...</td>\n",
              "      <td>1</td>\n",
              "    </tr>\n",
              "    <tr>\n",
              "      <th>21045</th>\n",
              "      <td>240956</td>\n",
              "      <td>Ivanka Trump was accused on Thursday of violat...</td>\n",
              "      <td>Booker denounces Biden's refusal to apologize ...</td>\n",
              "      <td>0</td>\n",
              "    </tr>\n",
              "    <tr>\n",
              "      <th>29356</th>\n",
              "      <td>233400</td>\n",
              "      <td>Two weeks ago I was on an easyJet flight from ...</td>\n",
              "      <td>Want to arrive on time? You&amp;apos;ll need to pa...</td>\n",
              "      <td>0</td>\n",
              "    </tr>\n",
              "  </tbody>\n",
              "</table>\n",
              "</div>"
            ],
            "text/plain": [
              "       Unnamed: 0  ... label\n",
              "5761       253455  ...     1\n",
              "24226      177107  ...     0\n",
              "29674      134982  ...     0\n",
              "49594      143209  ...     1\n",
              "6048       212509  ...     0\n",
              "46571       52772  ...     0\n",
              "53262      279290  ...     0\n",
              "45674        4100  ...     1\n",
              "21045      240956  ...     0\n",
              "29356      233400  ...     0\n",
              "\n",
              "[10 rows x 4 columns]"
            ]
          },
          "metadata": {
            "tags": []
          },
          "execution_count": 5
        }
      ]
    },
    {
      "cell_type": "code",
      "metadata": {
        "id": "GuE5BqICAne2"
      },
      "source": [
        "# Get the lists of sentences and their labels.\n",
        "sentences = df.title.values\n",
        "labels = df.label.values"
      ],
      "execution_count": null,
      "outputs": []
    },
    {
      "cell_type": "code",
      "metadata": {
        "id": "Z474sSC6oe7A",
        "colab": {
          "base_uri": "https://localhost:8080/"
        },
        "outputId": "f763ab83-7a45-4af1-850f-04df19676806"
      },
      "source": [
        "from transformers import BertTokenizer\n",
        "\n",
        "# Load the BERT tokenizer.\n",
        "tokenizer = BertTokenizer.from_pretrained('bert-base-uncased', do_lower_case=True)"
      ],
      "execution_count": null,
      "outputs": [
        {
          "output_type": "stream",
          "text": [
            "Loading BERT tokenizer...\n"
          ],
          "name": "stdout"
        }
      ]
    },
    {
      "cell_type": "code",
      "metadata": {
        "id": "2bBdb3pt8LuQ",
        "colab": {
          "base_uri": "https://localhost:8080/"
        },
        "outputId": "12c48c72-fe28-43eb-9ff2-d0c0fa8ca644"
      },
      "source": [
        "input_ids = []\n",
        "attention_masks = []\n",
        "\n",
        "# For every sentence...\n",
        "for sent in sentences:\n",
        "    encoded_dict = tokenizer.encode_plus(\n",
        "                        sent,                      # Sentence to encode.\n",
        "                        add_special_tokens = True, # Add '[CLS]' and '[SEP]'\n",
        "                        max_length = 24,           # Pad & truncate all sentences.\n",
        "                        padding = True,\n",
        "                        return_attention_mask = True,   # Construct attn. masks.\n",
        "                        return_tensors = 'pt',     # Return pytorch tensors.\n",
        "                        truncation=True,\n",
        "                   )\n",
        "    \n",
        "    # Add the encoded sentence to the list.    \n",
        "    input_ids.append(encoded_dict['input_ids'])\n",
        "    \n",
        "    # And its attention mask (simply differentiates padding from non-padding).\n",
        "    attention_masks.append(encoded_dict['attention_mask'])\n",
        "\n",
        "# Convert the lists into tensors.\n",
        "input_ids = torch.cat(input_ids, dim=0)\n",
        "attention_masks = torch.cat(attention_masks, dim=0)\n",
        "labels = torch.tensor(labels)\n",
        "\n",
        "# Print sentence 0, now as a list of IDs.\n",
        "print('Original: ', sentences[0])\n",
        "print('Token IDs:', input_ids[0])"
      ],
      "execution_count": null,
      "outputs": [
        {
          "output_type": "stream",
          "text": [
            "/usr/local/lib/python3.6/dist-packages/transformers/tokenization_utils_base.py:1944: FutureWarning: The `pad_to_max_length` argument is deprecated and will be removed in a future version, use `padding=True` or `padding='longest'` to pad to the longest sequence in the batch, or use `padding='max_length'` to pad to a max length. In this case, you can give a specific length with `max_length` (e.g. `max_length=45`) or leave max_length to None to pad to the maximal input size of the model (e.g. 512 for Bert).\n",
            "  FutureWarning,\n"
          ],
          "name": "stderr"
        },
        {
          "output_type": "stream",
          "text": [
            "Original:  Kamala Harris calls on Jerry Nadler to get the ball rolling on Kavanaugh impeachment\n",
            "Token IDs: tensor([  101, 21911,  2050,  5671,  4455,  2006,  6128, 23233,  3917,  2000,\n",
            "         2131,  1996,  3608,  5291,  2006, 10556, 27313,  8953, 17727,  5243,\n",
            "        22729,   102,     0,     0])\n"
          ],
          "name": "stdout"
        },
        {
          "output_type": "stream",
          "text": [
            "/usr/local/lib/python3.6/dist-packages/ipykernel_launcher.py:33: UserWarning: To copy construct from a tensor, it is recommended to use sourceTensor.clone().detach() or sourceTensor.clone().detach().requires_grad_(True), rather than torch.tensor(sourceTensor).\n"
          ],
          "name": "stderr"
        }
      ]
    },
    {
      "cell_type": "code",
      "metadata": {
        "id": "GEgLpFVlo1Z-",
        "colab": {
          "base_uri": "https://localhost:8080/"
        },
        "outputId": "35e4c26a-3edc-4938-886c-6a4651566bcb"
      },
      "source": [
        "# train:test:validation = 82:9:9\n",
        "\n",
        "from torch.utils.data import TensorDataset, random_split\n",
        "\n",
        "# Combine the training inputs into a TensorDataset.\n",
        "dataset = TensorDataset(input_ids, attention_masks, labels)\n",
        "\n",
        "# Create a 91-9 train-validation split.\n",
        "\n",
        "# Calculate the number of samples to include in each set.\n",
        "train_size = int(0.91 * len(dataset))\n",
        "val_size = (len(dataset) - train_size)\n",
        "# Divide the dataset by randomly selecting samples.\n",
        "train_dataset, val_dataset = random_split(dataset, [train_size, val_size])\n",
        "train_size = int(0.91 * len(train_dataset))\n",
        "test_size = (len(train_dataset) - train_size)\n",
        "train_dataset, test_dataset = random_split(train_dataset, [train_size, test_size])\n",
        "\n",
        "\n",
        "print('{:>5,} training samples'.format(train_size))\n",
        "print('{:>5,} validation samples'.format(val_size))\n",
        "print('{:>5,} validation samples'.format(test_size))"
      ],
      "execution_count": null,
      "outputs": [
        {
          "output_type": "stream",
          "text": [
            "82,809 training samples\n",
            "9,000 validation samples\n",
            "8,190 validation samples\n"
          ],
          "name": "stdout"
        }
      ]
    },
    {
      "cell_type": "code",
      "metadata": {
        "id": "XGUqOCtgqGhP"
      },
      "source": [
        "from torch.utils.data import DataLoader, RandomSampler, SequentialSampler\n",
        "\n",
        "batch_size = 32\n",
        "\n",
        "train_dataloader = DataLoader(\n",
        "            train_dataset, \n",
        "            sampler = RandomSampler(train_dataset),\n",
        "            batch_size = batch_size \n",
        "        )\n",
        "\n",
        "validation_dataloader = DataLoader(\n",
        "            val_dataset, \n",
        "            sampler = SequentialSampler(val_dataset),\n",
        "            batch_size = batch_size \n",
        "        )"
      ],
      "execution_count": null,
      "outputs": []
    },
    {
      "cell_type": "code",
      "metadata": {
        "id": "gFsCTp_mporB",
        "colab": {
          "base_uri": "https://localhost:8080/"
        },
        "outputId": "8cb495fd-3dc1-46e3-ef74-b0c167e34c3b"
      },
      "source": [
        "from transformers import BertForSequenceClassification, AdamW, BertConfig\n",
        "\n",
        "# Load BertForSequenceClassification, the pretrained BERT model with a single \n",
        "# linear classification layer on top. \n",
        "model = BertForSequenceClassification.from_pretrained(\n",
        "    \"bert-base-uncased\", # Use the 12-layer BERT model, with an uncased vocab.\n",
        "    num_labels = 2, # The number of output labels--2 for binary classification.\n",
        "                    # You can increase this for multi-class tasks.   \n",
        "    output_attentions = False, # Whether the model returns attentions weights.\n",
        "    output_hidden_states = False, # Whether the model returns all hidden-states.l\n",
        ")\n",
        "\n",
        "# Tell pytorch to run this model on the GPU.\n",
        "model.cuda()"
      ],
      "execution_count": null,
      "outputs": [
        {
          "output_type": "stream",
          "text": [
            "Some weights of the model checkpoint at bert-base-uncased were not used when initializing BertForSequenceClassification: ['cls.predictions.bias', 'cls.predictions.transform.dense.weight', 'cls.predictions.transform.dense.bias', 'cls.predictions.decoder.weight', 'cls.seq_relationship.weight', 'cls.seq_relationship.bias', 'cls.predictions.transform.LayerNorm.weight', 'cls.predictions.transform.LayerNorm.bias']\n",
            "- This IS expected if you are initializing BertForSequenceClassification from the checkpoint of a model trained on another task or with another architecture (e.g. initializing a BertForSequenceClassification model from a BertForPretraining model).\n",
            "- This IS NOT expected if you are initializing BertForSequenceClassification from the checkpoint of a model that you expect to be exactly identical (initializing a BertForSequenceClassification model from a BertForSequenceClassification model).\n",
            "Some weights of BertForSequenceClassification were not initialized from the model checkpoint at bert-base-uncased and are newly initialized: ['classifier.weight', 'classifier.bias']\n",
            "You should probably TRAIN this model on a down-stream task to be able to use it for predictions and inference.\n"
          ],
          "name": "stderr"
        },
        {
          "output_type": "execute_result",
          "data": {
            "text/plain": [
              "BertForSequenceClassification(\n",
              "  (bert): BertModel(\n",
              "    (embeddings): BertEmbeddings(\n",
              "      (word_embeddings): Embedding(30522, 768, padding_idx=0)\n",
              "      (position_embeddings): Embedding(512, 768)\n",
              "      (token_type_embeddings): Embedding(2, 768)\n",
              "      (LayerNorm): LayerNorm((768,), eps=1e-12, elementwise_affine=True)\n",
              "      (dropout): Dropout(p=0.1, inplace=False)\n",
              "    )\n",
              "    (encoder): BertEncoder(\n",
              "      (layer): ModuleList(\n",
              "        (0): BertLayer(\n",
              "          (attention): BertAttention(\n",
              "            (self): BertSelfAttention(\n",
              "              (query): Linear(in_features=768, out_features=768, bias=True)\n",
              "              (key): Linear(in_features=768, out_features=768, bias=True)\n",
              "              (value): Linear(in_features=768, out_features=768, bias=True)\n",
              "              (dropout): Dropout(p=0.1, inplace=False)\n",
              "            )\n",
              "            (output): BertSelfOutput(\n",
              "              (dense): Linear(in_features=768, out_features=768, bias=True)\n",
              "              (LayerNorm): LayerNorm((768,), eps=1e-12, elementwise_affine=True)\n",
              "              (dropout): Dropout(p=0.1, inplace=False)\n",
              "            )\n",
              "          )\n",
              "          (intermediate): BertIntermediate(\n",
              "            (dense): Linear(in_features=768, out_features=3072, bias=True)\n",
              "          )\n",
              "          (output): BertOutput(\n",
              "            (dense): Linear(in_features=3072, out_features=768, bias=True)\n",
              "            (LayerNorm): LayerNorm((768,), eps=1e-12, elementwise_affine=True)\n",
              "            (dropout): Dropout(p=0.1, inplace=False)\n",
              "          )\n",
              "        )\n",
              "        (1): BertLayer(\n",
              "          (attention): BertAttention(\n",
              "            (self): BertSelfAttention(\n",
              "              (query): Linear(in_features=768, out_features=768, bias=True)\n",
              "              (key): Linear(in_features=768, out_features=768, bias=True)\n",
              "              (value): Linear(in_features=768, out_features=768, bias=True)\n",
              "              (dropout): Dropout(p=0.1, inplace=False)\n",
              "            )\n",
              "            (output): BertSelfOutput(\n",
              "              (dense): Linear(in_features=768, out_features=768, bias=True)\n",
              "              (LayerNorm): LayerNorm((768,), eps=1e-12, elementwise_affine=True)\n",
              "              (dropout): Dropout(p=0.1, inplace=False)\n",
              "            )\n",
              "          )\n",
              "          (intermediate): BertIntermediate(\n",
              "            (dense): Linear(in_features=768, out_features=3072, bias=True)\n",
              "          )\n",
              "          (output): BertOutput(\n",
              "            (dense): Linear(in_features=3072, out_features=768, bias=True)\n",
              "            (LayerNorm): LayerNorm((768,), eps=1e-12, elementwise_affine=True)\n",
              "            (dropout): Dropout(p=0.1, inplace=False)\n",
              "          )\n",
              "        )\n",
              "        (2): BertLayer(\n",
              "          (attention): BertAttention(\n",
              "            (self): BertSelfAttention(\n",
              "              (query): Linear(in_features=768, out_features=768, bias=True)\n",
              "              (key): Linear(in_features=768, out_features=768, bias=True)\n",
              "              (value): Linear(in_features=768, out_features=768, bias=True)\n",
              "              (dropout): Dropout(p=0.1, inplace=False)\n",
              "            )\n",
              "            (output): BertSelfOutput(\n",
              "              (dense): Linear(in_features=768, out_features=768, bias=True)\n",
              "              (LayerNorm): LayerNorm((768,), eps=1e-12, elementwise_affine=True)\n",
              "              (dropout): Dropout(p=0.1, inplace=False)\n",
              "            )\n",
              "          )\n",
              "          (intermediate): BertIntermediate(\n",
              "            (dense): Linear(in_features=768, out_features=3072, bias=True)\n",
              "          )\n",
              "          (output): BertOutput(\n",
              "            (dense): Linear(in_features=3072, out_features=768, bias=True)\n",
              "            (LayerNorm): LayerNorm((768,), eps=1e-12, elementwise_affine=True)\n",
              "            (dropout): Dropout(p=0.1, inplace=False)\n",
              "          )\n",
              "        )\n",
              "        (3): BertLayer(\n",
              "          (attention): BertAttention(\n",
              "            (self): BertSelfAttention(\n",
              "              (query): Linear(in_features=768, out_features=768, bias=True)\n",
              "              (key): Linear(in_features=768, out_features=768, bias=True)\n",
              "              (value): Linear(in_features=768, out_features=768, bias=True)\n",
              "              (dropout): Dropout(p=0.1, inplace=False)\n",
              "            )\n",
              "            (output): BertSelfOutput(\n",
              "              (dense): Linear(in_features=768, out_features=768, bias=True)\n",
              "              (LayerNorm): LayerNorm((768,), eps=1e-12, elementwise_affine=True)\n",
              "              (dropout): Dropout(p=0.1, inplace=False)\n",
              "            )\n",
              "          )\n",
              "          (intermediate): BertIntermediate(\n",
              "            (dense): Linear(in_features=768, out_features=3072, bias=True)\n",
              "          )\n",
              "          (output): BertOutput(\n",
              "            (dense): Linear(in_features=3072, out_features=768, bias=True)\n",
              "            (LayerNorm): LayerNorm((768,), eps=1e-12, elementwise_affine=True)\n",
              "            (dropout): Dropout(p=0.1, inplace=False)\n",
              "          )\n",
              "        )\n",
              "        (4): BertLayer(\n",
              "          (attention): BertAttention(\n",
              "            (self): BertSelfAttention(\n",
              "              (query): Linear(in_features=768, out_features=768, bias=True)\n",
              "              (key): Linear(in_features=768, out_features=768, bias=True)\n",
              "              (value): Linear(in_features=768, out_features=768, bias=True)\n",
              "              (dropout): Dropout(p=0.1, inplace=False)\n",
              "            )\n",
              "            (output): BertSelfOutput(\n",
              "              (dense): Linear(in_features=768, out_features=768, bias=True)\n",
              "              (LayerNorm): LayerNorm((768,), eps=1e-12, elementwise_affine=True)\n",
              "              (dropout): Dropout(p=0.1, inplace=False)\n",
              "            )\n",
              "          )\n",
              "          (intermediate): BertIntermediate(\n",
              "            (dense): Linear(in_features=768, out_features=3072, bias=True)\n",
              "          )\n",
              "          (output): BertOutput(\n",
              "            (dense): Linear(in_features=3072, out_features=768, bias=True)\n",
              "            (LayerNorm): LayerNorm((768,), eps=1e-12, elementwise_affine=True)\n",
              "            (dropout): Dropout(p=0.1, inplace=False)\n",
              "          )\n",
              "        )\n",
              "        (5): BertLayer(\n",
              "          (attention): BertAttention(\n",
              "            (self): BertSelfAttention(\n",
              "              (query): Linear(in_features=768, out_features=768, bias=True)\n",
              "              (key): Linear(in_features=768, out_features=768, bias=True)\n",
              "              (value): Linear(in_features=768, out_features=768, bias=True)\n",
              "              (dropout): Dropout(p=0.1, inplace=False)\n",
              "            )\n",
              "            (output): BertSelfOutput(\n",
              "              (dense): Linear(in_features=768, out_features=768, bias=True)\n",
              "              (LayerNorm): LayerNorm((768,), eps=1e-12, elementwise_affine=True)\n",
              "              (dropout): Dropout(p=0.1, inplace=False)\n",
              "            )\n",
              "          )\n",
              "          (intermediate): BertIntermediate(\n",
              "            (dense): Linear(in_features=768, out_features=3072, bias=True)\n",
              "          )\n",
              "          (output): BertOutput(\n",
              "            (dense): Linear(in_features=3072, out_features=768, bias=True)\n",
              "            (LayerNorm): LayerNorm((768,), eps=1e-12, elementwise_affine=True)\n",
              "            (dropout): Dropout(p=0.1, inplace=False)\n",
              "          )\n",
              "        )\n",
              "        (6): BertLayer(\n",
              "          (attention): BertAttention(\n",
              "            (self): BertSelfAttention(\n",
              "              (query): Linear(in_features=768, out_features=768, bias=True)\n",
              "              (key): Linear(in_features=768, out_features=768, bias=True)\n",
              "              (value): Linear(in_features=768, out_features=768, bias=True)\n",
              "              (dropout): Dropout(p=0.1, inplace=False)\n",
              "            )\n",
              "            (output): BertSelfOutput(\n",
              "              (dense): Linear(in_features=768, out_features=768, bias=True)\n",
              "              (LayerNorm): LayerNorm((768,), eps=1e-12, elementwise_affine=True)\n",
              "              (dropout): Dropout(p=0.1, inplace=False)\n",
              "            )\n",
              "          )\n",
              "          (intermediate): BertIntermediate(\n",
              "            (dense): Linear(in_features=768, out_features=3072, bias=True)\n",
              "          )\n",
              "          (output): BertOutput(\n",
              "            (dense): Linear(in_features=3072, out_features=768, bias=True)\n",
              "            (LayerNorm): LayerNorm((768,), eps=1e-12, elementwise_affine=True)\n",
              "            (dropout): Dropout(p=0.1, inplace=False)\n",
              "          )\n",
              "        )\n",
              "        (7): BertLayer(\n",
              "          (attention): BertAttention(\n",
              "            (self): BertSelfAttention(\n",
              "              (query): Linear(in_features=768, out_features=768, bias=True)\n",
              "              (key): Linear(in_features=768, out_features=768, bias=True)\n",
              "              (value): Linear(in_features=768, out_features=768, bias=True)\n",
              "              (dropout): Dropout(p=0.1, inplace=False)\n",
              "            )\n",
              "            (output): BertSelfOutput(\n",
              "              (dense): Linear(in_features=768, out_features=768, bias=True)\n",
              "              (LayerNorm): LayerNorm((768,), eps=1e-12, elementwise_affine=True)\n",
              "              (dropout): Dropout(p=0.1, inplace=False)\n",
              "            )\n",
              "          )\n",
              "          (intermediate): BertIntermediate(\n",
              "            (dense): Linear(in_features=768, out_features=3072, bias=True)\n",
              "          )\n",
              "          (output): BertOutput(\n",
              "            (dense): Linear(in_features=3072, out_features=768, bias=True)\n",
              "            (LayerNorm): LayerNorm((768,), eps=1e-12, elementwise_affine=True)\n",
              "            (dropout): Dropout(p=0.1, inplace=False)\n",
              "          )\n",
              "        )\n",
              "        (8): BertLayer(\n",
              "          (attention): BertAttention(\n",
              "            (self): BertSelfAttention(\n",
              "              (query): Linear(in_features=768, out_features=768, bias=True)\n",
              "              (key): Linear(in_features=768, out_features=768, bias=True)\n",
              "              (value): Linear(in_features=768, out_features=768, bias=True)\n",
              "              (dropout): Dropout(p=0.1, inplace=False)\n",
              "            )\n",
              "            (output): BertSelfOutput(\n",
              "              (dense): Linear(in_features=768, out_features=768, bias=True)\n",
              "              (LayerNorm): LayerNorm((768,), eps=1e-12, elementwise_affine=True)\n",
              "              (dropout): Dropout(p=0.1, inplace=False)\n",
              "            )\n",
              "          )\n",
              "          (intermediate): BertIntermediate(\n",
              "            (dense): Linear(in_features=768, out_features=3072, bias=True)\n",
              "          )\n",
              "          (output): BertOutput(\n",
              "            (dense): Linear(in_features=3072, out_features=768, bias=True)\n",
              "            (LayerNorm): LayerNorm((768,), eps=1e-12, elementwise_affine=True)\n",
              "            (dropout): Dropout(p=0.1, inplace=False)\n",
              "          )\n",
              "        )\n",
              "        (9): BertLayer(\n",
              "          (attention): BertAttention(\n",
              "            (self): BertSelfAttention(\n",
              "              (query): Linear(in_features=768, out_features=768, bias=True)\n",
              "              (key): Linear(in_features=768, out_features=768, bias=True)\n",
              "              (value): Linear(in_features=768, out_features=768, bias=True)\n",
              "              (dropout): Dropout(p=0.1, inplace=False)\n",
              "            )\n",
              "            (output): BertSelfOutput(\n",
              "              (dense): Linear(in_features=768, out_features=768, bias=True)\n",
              "              (LayerNorm): LayerNorm((768,), eps=1e-12, elementwise_affine=True)\n",
              "              (dropout): Dropout(p=0.1, inplace=False)\n",
              "            )\n",
              "          )\n",
              "          (intermediate): BertIntermediate(\n",
              "            (dense): Linear(in_features=768, out_features=3072, bias=True)\n",
              "          )\n",
              "          (output): BertOutput(\n",
              "            (dense): Linear(in_features=3072, out_features=768, bias=True)\n",
              "            (LayerNorm): LayerNorm((768,), eps=1e-12, elementwise_affine=True)\n",
              "            (dropout): Dropout(p=0.1, inplace=False)\n",
              "          )\n",
              "        )\n",
              "        (10): BertLayer(\n",
              "          (attention): BertAttention(\n",
              "            (self): BertSelfAttention(\n",
              "              (query): Linear(in_features=768, out_features=768, bias=True)\n",
              "              (key): Linear(in_features=768, out_features=768, bias=True)\n",
              "              (value): Linear(in_features=768, out_features=768, bias=True)\n",
              "              (dropout): Dropout(p=0.1, inplace=False)\n",
              "            )\n",
              "            (output): BertSelfOutput(\n",
              "              (dense): Linear(in_features=768, out_features=768, bias=True)\n",
              "              (LayerNorm): LayerNorm((768,), eps=1e-12, elementwise_affine=True)\n",
              "              (dropout): Dropout(p=0.1, inplace=False)\n",
              "            )\n",
              "          )\n",
              "          (intermediate): BertIntermediate(\n",
              "            (dense): Linear(in_features=768, out_features=3072, bias=True)\n",
              "          )\n",
              "          (output): BertOutput(\n",
              "            (dense): Linear(in_features=3072, out_features=768, bias=True)\n",
              "            (LayerNorm): LayerNorm((768,), eps=1e-12, elementwise_affine=True)\n",
              "            (dropout): Dropout(p=0.1, inplace=False)\n",
              "          )\n",
              "        )\n",
              "        (11): BertLayer(\n",
              "          (attention): BertAttention(\n",
              "            (self): BertSelfAttention(\n",
              "              (query): Linear(in_features=768, out_features=768, bias=True)\n",
              "              (key): Linear(in_features=768, out_features=768, bias=True)\n",
              "              (value): Linear(in_features=768, out_features=768, bias=True)\n",
              "              (dropout): Dropout(p=0.1, inplace=False)\n",
              "            )\n",
              "            (output): BertSelfOutput(\n",
              "              (dense): Linear(in_features=768, out_features=768, bias=True)\n",
              "              (LayerNorm): LayerNorm((768,), eps=1e-12, elementwise_affine=True)\n",
              "              (dropout): Dropout(p=0.1, inplace=False)\n",
              "            )\n",
              "          )\n",
              "          (intermediate): BertIntermediate(\n",
              "            (dense): Linear(in_features=768, out_features=3072, bias=True)\n",
              "          )\n",
              "          (output): BertOutput(\n",
              "            (dense): Linear(in_features=3072, out_features=768, bias=True)\n",
              "            (LayerNorm): LayerNorm((768,), eps=1e-12, elementwise_affine=True)\n",
              "            (dropout): Dropout(p=0.1, inplace=False)\n",
              "          )\n",
              "        )\n",
              "      )\n",
              "    )\n",
              "    (pooler): BertPooler(\n",
              "      (dense): Linear(in_features=768, out_features=768, bias=True)\n",
              "      (activation): Tanh()\n",
              "    )\n",
              "  )\n",
              "  (dropout): Dropout(p=0.1, inplace=False)\n",
              "  (classifier): Linear(in_features=768, out_features=2, bias=True)\n",
              ")"
            ]
          },
          "metadata": {
            "tags": []
          },
          "execution_count": 68
        }
      ]
    },
    {
      "cell_type": "code",
      "metadata": {
        "id": "8PIiVlDYCtSq",
        "colab": {
          "base_uri": "https://localhost:8080/"
        },
        "outputId": "60bc6ad4-cb63-4be3-fef6-763afbb82591"
      },
      "source": [
        "# # Get all of the model's parameters as a list of tuples.\n",
        "# params = list(model.named_parameters())\n",
        "\n",
        "# print('The BERT model has {:} different named parameters.\\n'.format(len(params)))\n",
        "\n",
        "# print('==== Embedding Layer ====\\n')\n",
        "\n",
        "# for p in params[0:5]:\n",
        "#     print(\"{:<55} {:>12}\".format(p[0], str(tuple(p[1].size()))))\n",
        "\n",
        "# print('\\n==== First Transformer ====\\n')\n",
        "\n",
        "# for p in params[5:21]:\n",
        "#     print(\"{:<55} {:>12}\".format(p[0], str(tuple(p[1].size()))))\n",
        "\n",
        "# print('\\n==== Output Layer ====\\n')\n",
        "\n",
        "# for p in params[-4:]:\n",
        "#     print(\"{:<55} {:>12}\".format(p[0], str(tuple(p[1].size()))))"
      ],
      "execution_count": null,
      "outputs": [
        {
          "output_type": "stream",
          "text": [
            "The BERT model has 201 different named parameters.\n",
            "\n",
            "==== Embedding Layer ====\n",
            "\n",
            "bert.embeddings.word_embeddings.weight                  (30522, 768)\n",
            "bert.embeddings.position_embeddings.weight                (512, 768)\n",
            "bert.embeddings.token_type_embeddings.weight                (2, 768)\n",
            "bert.embeddings.LayerNorm.weight                              (768,)\n",
            "bert.embeddings.LayerNorm.bias                                (768,)\n",
            "\n",
            "==== First Transformer ====\n",
            "\n",
            "bert.encoder.layer.0.attention.self.query.weight          (768, 768)\n",
            "bert.encoder.layer.0.attention.self.query.bias                (768,)\n",
            "bert.encoder.layer.0.attention.self.key.weight            (768, 768)\n",
            "bert.encoder.layer.0.attention.self.key.bias                  (768,)\n",
            "bert.encoder.layer.0.attention.self.value.weight          (768, 768)\n",
            "bert.encoder.layer.0.attention.self.value.bias                (768,)\n",
            "bert.encoder.layer.0.attention.output.dense.weight        (768, 768)\n",
            "bert.encoder.layer.0.attention.output.dense.bias              (768,)\n",
            "bert.encoder.layer.0.attention.output.LayerNorm.weight        (768,)\n",
            "bert.encoder.layer.0.attention.output.LayerNorm.bias          (768,)\n",
            "bert.encoder.layer.0.intermediate.dense.weight           (3072, 768)\n",
            "bert.encoder.layer.0.intermediate.dense.bias                 (3072,)\n",
            "bert.encoder.layer.0.output.dense.weight                 (768, 3072)\n",
            "bert.encoder.layer.0.output.dense.bias                        (768,)\n",
            "bert.encoder.layer.0.output.LayerNorm.weight                  (768,)\n",
            "bert.encoder.layer.0.output.LayerNorm.bias                    (768,)\n",
            "\n",
            "==== Output Layer ====\n",
            "\n",
            "bert.pooler.dense.weight                                  (768, 768)\n",
            "bert.pooler.dense.bias                                        (768,)\n",
            "classifier.weight                                           (2, 768)\n",
            "classifier.bias                                                 (2,)\n"
          ],
          "name": "stdout"
        }
      ]
    },
    {
      "cell_type": "code",
      "metadata": {
        "id": "GLs72DuMODJO"
      },
      "source": [
        "# Note: AdamW is a class from the huggingface library (as opposed to pytorch) \n",
        "# I believe the 'W' stands for 'Weight Decay fix\"\n",
        "optimizer = AdamW(model.parameters(),\n",
        "                  lr = 2e-5, # args.learning_rate - default is 5e-5, our notebook had 2e-5\n",
        "                  eps = 1e-8 # args.adam_epsilon  - default is 1e-8.\n",
        "                )\n"
      ],
      "execution_count": null,
      "outputs": []
    },
    {
      "cell_type": "code",
      "metadata": {
        "id": "-p0upAhhRiIx"
      },
      "source": [
        "from transformers import get_linear_schedule_with_warmup\n",
        "\n",
        "epochs = 2\n",
        "\n",
        "# Total number of training steps is [number of batches] x [number of epochs]. \n",
        "# (Note that this is not the same as the number of training samples).\n",
        "total_steps = len(train_dataloader) * epochs\n",
        "\n",
        "# Create the learning rate scheduler.\n",
        "scheduler = get_linear_schedule_with_warmup(optimizer, \n",
        "                                            num_warmup_steps = 0, # Default value in run_glue.py\n",
        "                                            num_training_steps = total_steps)"
      ],
      "execution_count": null,
      "outputs": []
    },
    {
      "cell_type": "code",
      "metadata": {
        "id": "9cQNvaZ9bnyy"
      },
      "source": [
        "import numpy as np\n",
        "\n",
        "# Function to calculate the accuracy of our predictions vs labels\n",
        "def flat_accuracy(preds, labels):\n",
        "    pred_flat = np.argmax(preds, axis=1).flatten()\n",
        "    labels_flat = labels.flatten()\n",
        "    return np.sum(pred_flat == labels_flat) / len(labels_flat)"
      ],
      "execution_count": null,
      "outputs": []
    },
    {
      "cell_type": "code",
      "metadata": {
        "id": "gpt6tR83keZD"
      },
      "source": [
        "import time\n",
        "import datetime\n",
        "\n",
        "def format_time(elapsed):\n",
        "    '''\n",
        "    Takes a time in seconds and returns a string hh:mm:ss\n",
        "    '''\n",
        "    # Round to the nearest second.\n",
        "    elapsed_rounded = int(round((elapsed)))\n",
        "    \n",
        "    # Format as hh:mm:ss\n",
        "    return str(datetime.timedelta(seconds=elapsed_rounded))\n"
      ],
      "execution_count": null,
      "outputs": []
    },
    {
      "cell_type": "markdown",
      "metadata": {
        "id": "cfNIhN19te3N"
      },
      "source": [
        "We're ready to kick off the training!"
      ]
    },
    {
      "cell_type": "code",
      "metadata": {
        "id": "6J-FYdx6nFE_",
        "colab": {
          "base_uri": "https://localhost:8080/"
        },
        "outputId": "e330ab85-c881-479b-d73a-a682341d1b9b"
      },
      "source": [
        "import random\n",
        "import numpy as np\n",
        "\n",
        "\n",
        "# Set the seed value all over the place to make this reproducible.\n",
        "seed_val = 42\n",
        "\n",
        "random.seed(seed_val)\n",
        "np.random.seed(seed_val)\n",
        "torch.manual_seed(seed_val)\n",
        "torch.cuda.manual_seed_all(seed_val)\n",
        "\n",
        "# We'll store a number of quantities such as training and validation loss, \n",
        "# validation accuracy, and timings.\n",
        "training_stats = []\n",
        "\n",
        "# Measure the total training time for the whole run.\n",
        "total_t0 = time.time()\n",
        "\n",
        "# For each epoch...\n",
        "for epoch_i in range(0, epochs):\n",
        "\n",
        "    print(\"\")\n",
        "    print('Epoch {:} / {:}'.format(epoch_i + 1, epochs))\n",
        "\n",
        "    # Measure how long the training epoch takes.\n",
        "    t0 = time.time()\n",
        "\n",
        "    # Reset the total loss for this epoch.\n",
        "    total_train_loss = 0\n",
        "\n",
        "    model.train()\n",
        "\n",
        "    # For each batch of training data...\n",
        "    for step, batch in enumerate(train_dataloader):\n",
        "\n",
        "        # Progress update every 40 batches.\n",
        "        if step % 40 == 0 and not step == 0:\n",
        "            # Calculate elapsed time in minutes.\n",
        "            elapsed = format_time(time.time() - t0)\n",
        "            \n",
        "            # Report progress.\n",
        "            print('  Batch {:>5,}  of  {:>5,}.    Elapsed: {:}.'.format(step, len(train_dataloader), elapsed))\n",
        "\n",
        "         \n",
        "        b_input_ids = batch[0].to(device)\n",
        "        b_input_mask = batch[1].to(device)\n",
        "        b_labels = batch[2].to(device)\n",
        "\n",
        "        \n",
        "        model.zero_grad()        \n",
        "\n",
        "        loss, logits = model(b_input_ids, \n",
        "                             token_type_ids=None, \n",
        "                             attention_mask=b_input_mask, \n",
        "                             labels=b_labels)\n",
        "\n",
        "        # Accumulate the training loss over all of the batches so that we can\n",
        "        # calculate the average loss at the end. `loss` is a Tensor containing a\n",
        "        # single value; the `.item()` function just returns the Python value \n",
        "        # from the tensor.\n",
        "        total_train_loss += loss.item()\n",
        "\n",
        "        # Perform a backward pass to calculate the gradients.\n",
        "        loss.backward()\n",
        "\n",
        "        # Clip the norm of the gradients to 1.0.\n",
        "        # This is to help prevent the \"exploding gradients\" problem.\n",
        "        torch.nn.utils.clip_grad_norm_(model.parameters(), 1.0)\n",
        "\n",
        "        # Update parameters and take a step using the computed gradient.\n",
        "        # The optimizer dictates the \"update rule\"--how the parameters are\n",
        "        # modified based on their gradients, the learning rate, etc.\n",
        "        optimizer.step()\n",
        "\n",
        "        # Update the learning rate.\n",
        "        scheduler.step()\n",
        "\n",
        "    # Calculate the average loss over all of the batches.\n",
        "    avg_train_loss = total_train_loss / len(train_dataloader)            \n",
        "    \n",
        "    # Measure how long this epoch took.\n",
        "    training_time = format_time(time.time() - t0)\n",
        "\n",
        "    print(\"\")\n",
        "    print(\"  Average training loss: {0:.2f}\".format(avg_train_loss))\n",
        "    print(\"  Training epcoh took: {:}\".format(training_time))\n",
        "        \n",
        "    \n",
        "    print(\"\")\n",
        "\n",
        "    t0 = time.time()\n",
        "\n",
        "    # Put the model in evaluation mode--the dropout layers behave differently\n",
        "    # during evaluation.\n",
        "    model.eval()\n",
        "\n",
        "    # Tracking variables \n",
        "    total_eval_accuracy = 0\n",
        "    total_eval_loss = 0\n",
        "    nb_eval_steps = 0\n",
        "\n",
        "    # Evaluate data for one epoch\n",
        "    for batch in validation_dataloader:\n",
        "        \n",
        "        # Unpack this training batch from our dataloader. \n",
        "        #\n",
        "        # As we unpack the batch, we'll also copy each tensor to the GPU using \n",
        "        # the `to` method.\n",
        "        #\n",
        "        # `batch` contains three pytorch tensors:\n",
        "        #   [0]: input ids \n",
        "        #   [1]: attention masks\n",
        "        #   [2]: labels \n",
        "        b_input_ids = batch[0].to(device)\n",
        "        b_input_mask = batch[1].to(device)\n",
        "        b_labels = batch[2].to(device)\n",
        "        \n",
        "        \n",
        "        with torch.no_grad():        \n",
        "\n",
        "            (loss, logits) = model(b_input_ids, \n",
        "                                   token_type_ids=None, \n",
        "                                   attention_mask=b_input_mask,\n",
        "                                   labels=b_labels)\n",
        "            \n",
        "        # Accumulate the validation loss.\n",
        "        total_eval_loss += loss.item()\n",
        "\n",
        "        # Move logits and labels to CPU\n",
        "        logits = logits.detach().cpu().numpy()\n",
        "        label_ids = b_labels.to('cpu').numpy()\n",
        "\n",
        "        # Calculate the accuracy for this batch of test sentences, and\n",
        "        # accumulate it over all batches.\n",
        "        total_eval_accuracy += flat_accuracy(logits, label_ids)\n",
        "        \n",
        "\n",
        "    # Report the final accuracy for this validation run.\n",
        "    avg_val_accuracy = total_eval_accuracy / len(validation_dataloader)\n",
        "    print(\"  Accuracy: {0:.2f}\".format(avg_val_accuracy))\n",
        "\n",
        "    # Calculate the average loss over all of the batches.\n",
        "    avg_val_loss = total_eval_loss / len(validation_dataloader)\n",
        "    \n",
        "    # Measure how long the validation run took.\n",
        "    validation_time = format_time(time.time() - t0)\n",
        "    \n",
        "    print(\"  Validation Loss: {0:.2f}\".format(avg_val_loss))\n",
        "    print(\"  Validation took: {:}\".format(validation_time))\n",
        "\n",
        "    # Record all statistics from this epoch.\n",
        "    training_stats.append(\n",
        "        {\n",
        "            'epoch': epoch_i + 1,\n",
        "            'Training Loss': avg_train_loss,\n",
        "            'Valid. Loss': avg_val_loss,\n",
        "            'Valid. Accur.': avg_val_accuracy,\n",
        "            'Training Time': training_time,\n",
        "            'Validation Time': validation_time\n",
        "        }\n",
        "    )\n",
        "\n",
        "print(\"\")\n",
        "print(\"Training complete!\")\n",
        "\n",
        "print(\"Total training took {:} (h:mm:ss)\".format(format_time(time.time()-total_t0)))"
      ],
      "execution_count": null,
      "outputs": [
        {
          "output_type": "stream",
          "text": [
            "\n",
            "======== Epoch 1 / 2 ========\n",
            "Training...\n",
            "  Batch    40  of  2,588.    Elapsed: 0:00:07.\n",
            "  Batch    80  of  2,588.    Elapsed: 0:00:14.\n",
            "  Batch   120  of  2,588.    Elapsed: 0:00:22.\n",
            "  Batch   160  of  2,588.    Elapsed: 0:00:29.\n",
            "  Batch   200  of  2,588.    Elapsed: 0:00:36.\n",
            "  Batch   240  of  2,588.    Elapsed: 0:00:42.\n",
            "  Batch   280  of  2,588.    Elapsed: 0:00:49.\n",
            "  Batch   320  of  2,588.    Elapsed: 0:00:56.\n",
            "  Batch   360  of  2,588.    Elapsed: 0:01:03.\n",
            "  Batch   400  of  2,588.    Elapsed: 0:01:10.\n",
            "  Batch   440  of  2,588.    Elapsed: 0:01:16.\n",
            "  Batch   480  of  2,588.    Elapsed: 0:01:23.\n",
            "  Batch   520  of  2,588.    Elapsed: 0:01:30.\n",
            "  Batch   560  of  2,588.    Elapsed: 0:01:37.\n",
            "  Batch   600  of  2,588.    Elapsed: 0:01:44.\n",
            "  Batch   640  of  2,588.    Elapsed: 0:01:51.\n",
            "  Batch   680  of  2,588.    Elapsed: 0:01:58.\n",
            "  Batch   720  of  2,588.    Elapsed: 0:02:05.\n",
            "  Batch   760  of  2,588.    Elapsed: 0:02:12.\n",
            "  Batch   800  of  2,588.    Elapsed: 0:02:19.\n",
            "  Batch   840  of  2,588.    Elapsed: 0:02:25.\n",
            "  Batch   880  of  2,588.    Elapsed: 0:02:32.\n",
            "  Batch   920  of  2,588.    Elapsed: 0:02:39.\n",
            "  Batch   960  of  2,588.    Elapsed: 0:02:46.\n",
            "  Batch 1,000  of  2,588.    Elapsed: 0:02:53.\n",
            "  Batch 1,040  of  2,588.    Elapsed: 0:03:00.\n",
            "  Batch 1,080  of  2,588.    Elapsed: 0:03:07.\n",
            "  Batch 1,120  of  2,588.    Elapsed: 0:03:13.\n",
            "  Batch 1,160  of  2,588.    Elapsed: 0:03:20.\n",
            "  Batch 1,200  of  2,588.    Elapsed: 0:03:27.\n",
            "  Batch 1,240  of  2,588.    Elapsed: 0:03:34.\n",
            "  Batch 1,280  of  2,588.    Elapsed: 0:03:41.\n",
            "  Batch 1,320  of  2,588.    Elapsed: 0:03:48.\n",
            "  Batch 1,360  of  2,588.    Elapsed: 0:03:55.\n",
            "  Batch 1,400  of  2,588.    Elapsed: 0:04:02.\n",
            "  Batch 1,440  of  2,588.    Elapsed: 0:04:09.\n",
            "  Batch 1,480  of  2,588.    Elapsed: 0:04:15.\n",
            "  Batch 1,520  of  2,588.    Elapsed: 0:04:22.\n",
            "  Batch 1,560  of  2,588.    Elapsed: 0:04:29.\n",
            "  Batch 1,600  of  2,588.    Elapsed: 0:04:36.\n",
            "  Batch 1,640  of  2,588.    Elapsed: 0:04:43.\n",
            "  Batch 1,680  of  2,588.    Elapsed: 0:04:50.\n",
            "  Batch 1,720  of  2,588.    Elapsed: 0:04:57.\n",
            "  Batch 1,760  of  2,588.    Elapsed: 0:05:03.\n",
            "  Batch 1,800  of  2,588.    Elapsed: 0:05:10.\n",
            "  Batch 1,840  of  2,588.    Elapsed: 0:05:17.\n",
            "  Batch 1,880  of  2,588.    Elapsed: 0:05:24.\n",
            "  Batch 1,920  of  2,588.    Elapsed: 0:05:31.\n",
            "  Batch 1,960  of  2,588.    Elapsed: 0:05:38.\n",
            "  Batch 2,000  of  2,588.    Elapsed: 0:05:45.\n",
            "  Batch 2,040  of  2,588.    Elapsed: 0:05:52.\n",
            "  Batch 2,080  of  2,588.    Elapsed: 0:05:58.\n",
            "  Batch 2,120  of  2,588.    Elapsed: 0:06:05.\n",
            "  Batch 2,160  of  2,588.    Elapsed: 0:06:12.\n",
            "  Batch 2,200  of  2,588.    Elapsed: 0:06:19.\n",
            "  Batch 2,240  of  2,588.    Elapsed: 0:06:26.\n",
            "  Batch 2,280  of  2,588.    Elapsed: 0:06:33.\n",
            "  Batch 2,320  of  2,588.    Elapsed: 0:06:40.\n",
            "  Batch 2,360  of  2,588.    Elapsed: 0:06:47.\n",
            "  Batch 2,400  of  2,588.    Elapsed: 0:06:53.\n",
            "  Batch 2,440  of  2,588.    Elapsed: 0:07:00.\n",
            "  Batch 2,480  of  2,588.    Elapsed: 0:07:07.\n",
            "  Batch 2,520  of  2,588.    Elapsed: 0:07:14.\n",
            "  Batch 2,560  of  2,588.    Elapsed: 0:07:21.\n",
            "\n",
            "  Average training loss: 0.39\n",
            "  Training epcoh took: 0:07:26\n",
            "\n",
            "Running Validation...\n",
            "  Accuracy: 0.85\n",
            "  Validation Loss: 0.33\n",
            "  Validation took: 0:00:14\n",
            "\n",
            "======== Epoch 2 / 2 ========\n",
            "Training...\n",
            "  Batch    40  of  2,588.    Elapsed: 0:00:07.\n",
            "  Batch    80  of  2,588.    Elapsed: 0:00:14.\n",
            "  Batch   120  of  2,588.    Elapsed: 0:00:21.\n",
            "  Batch   160  of  2,588.    Elapsed: 0:00:28.\n",
            "  Batch   200  of  2,588.    Elapsed: 0:00:34.\n",
            "  Batch   240  of  2,588.    Elapsed: 0:00:41.\n",
            "  Batch   280  of  2,588.    Elapsed: 0:00:48.\n",
            "  Batch   320  of  2,588.    Elapsed: 0:00:55.\n",
            "  Batch   360  of  2,588.    Elapsed: 0:01:02.\n",
            "  Batch   400  of  2,588.    Elapsed: 0:01:09.\n",
            "  Batch   440  of  2,588.    Elapsed: 0:01:16.\n",
            "  Batch   480  of  2,588.    Elapsed: 0:01:23.\n",
            "  Batch   520  of  2,588.    Elapsed: 0:01:29.\n",
            "  Batch   560  of  2,588.    Elapsed: 0:01:36.\n",
            "  Batch   600  of  2,588.    Elapsed: 0:01:43.\n",
            "  Batch   640  of  2,588.    Elapsed: 0:01:50.\n",
            "  Batch   680  of  2,588.    Elapsed: 0:01:57.\n",
            "  Batch   720  of  2,588.    Elapsed: 0:02:04.\n",
            "  Batch   760  of  2,588.    Elapsed: 0:02:11.\n",
            "  Batch   800  of  2,588.    Elapsed: 0:02:18.\n",
            "  Batch   840  of  2,588.    Elapsed: 0:02:24.\n",
            "  Batch   880  of  2,588.    Elapsed: 0:02:31.\n",
            "  Batch   920  of  2,588.    Elapsed: 0:02:38.\n",
            "  Batch   960  of  2,588.    Elapsed: 0:02:45.\n",
            "  Batch 1,000  of  2,588.    Elapsed: 0:02:52.\n",
            "  Batch 1,040  of  2,588.    Elapsed: 0:02:59.\n",
            "  Batch 1,080  of  2,588.    Elapsed: 0:03:06.\n",
            "  Batch 1,120  of  2,588.    Elapsed: 0:03:13.\n",
            "  Batch 1,160  of  2,588.    Elapsed: 0:03:19.\n",
            "  Batch 1,200  of  2,588.    Elapsed: 0:03:26.\n",
            "  Batch 1,240  of  2,588.    Elapsed: 0:03:33.\n",
            "  Batch 1,280  of  2,588.    Elapsed: 0:03:40.\n",
            "  Batch 1,320  of  2,588.    Elapsed: 0:03:47.\n",
            "  Batch 1,360  of  2,588.    Elapsed: 0:03:54.\n",
            "  Batch 1,400  of  2,588.    Elapsed: 0:04:01.\n",
            "  Batch 1,440  of  2,588.    Elapsed: 0:04:07.\n",
            "  Batch 1,480  of  2,588.    Elapsed: 0:04:14.\n",
            "  Batch 1,520  of  2,588.    Elapsed: 0:04:21.\n",
            "  Batch 1,560  of  2,588.    Elapsed: 0:04:28.\n",
            "  Batch 1,600  of  2,588.    Elapsed: 0:04:35.\n",
            "  Batch 1,640  of  2,588.    Elapsed: 0:04:42.\n",
            "  Batch 1,680  of  2,588.    Elapsed: 0:04:49.\n",
            "  Batch 1,720  of  2,588.    Elapsed: 0:04:56.\n",
            "  Batch 1,760  of  2,588.    Elapsed: 0:05:02.\n",
            "  Batch 1,800  of  2,588.    Elapsed: 0:05:09.\n",
            "  Batch 1,840  of  2,588.    Elapsed: 0:05:16.\n",
            "  Batch 1,880  of  2,588.    Elapsed: 0:05:23.\n",
            "  Batch 1,920  of  2,588.    Elapsed: 0:05:30.\n",
            "  Batch 1,960  of  2,588.    Elapsed: 0:05:37.\n",
            "  Batch 2,000  of  2,588.    Elapsed: 0:05:44.\n",
            "  Batch 2,040  of  2,588.    Elapsed: 0:05:51.\n",
            "  Batch 2,080  of  2,588.    Elapsed: 0:05:57.\n",
            "  Batch 2,120  of  2,588.    Elapsed: 0:06:04.\n",
            "  Batch 2,160  of  2,588.    Elapsed: 0:06:11.\n",
            "  Batch 2,200  of  2,588.    Elapsed: 0:06:18.\n",
            "  Batch 2,240  of  2,588.    Elapsed: 0:06:25.\n",
            "  Batch 2,280  of  2,588.    Elapsed: 0:06:32.\n",
            "  Batch 2,320  of  2,588.    Elapsed: 0:06:39.\n",
            "  Batch 2,360  of  2,588.    Elapsed: 0:06:46.\n",
            "  Batch 2,400  of  2,588.    Elapsed: 0:06:52.\n",
            "  Batch 2,440  of  2,588.    Elapsed: 0:06:59.\n",
            "  Batch 2,480  of  2,588.    Elapsed: 0:07:06.\n",
            "  Batch 2,520  of  2,588.    Elapsed: 0:07:13.\n",
            "  Batch 2,560  of  2,588.    Elapsed: 0:07:20.\n",
            "\n",
            "  Average training loss: 0.25\n",
            "  Training epcoh took: 0:07:25\n",
            "\n",
            "Running Validation...\n",
            "  Accuracy: 0.86\n",
            "  Validation Loss: 0.33\n",
            "  Validation took: 0:00:14\n",
            "\n",
            "Training complete!\n",
            "Total training took 0:15:19 (h:mm:ss)\n"
          ],
          "name": "stdout"
        }
      ]
    },
    {
      "cell_type": "code",
      "metadata": {
        "id": "6O_NbXFGMukX",
        "colab": {
          "base_uri": "https://localhost:8080/",
          "height": 142
        },
        "outputId": "f73a2808-9537-453a-fc51-f2f9f130a25a"
      },
      "source": [
        "import pandas as pd\n",
        "\n",
        "# Display floats with two decimal places.\n",
        "pd.set_option('precision', 2)\n",
        "\n",
        "# Create a DataFrame from our training statistics.\n",
        "df_stats = pd.DataFrame(data=training_stats)\n",
        "\n",
        "# Use the 'epoch' as the row index.\n",
        "df_stats = df_stats.set_index('epoch')\n",
        "\n",
        "# A hack to force the column headers to wrap.\n",
        "#df = df.style.set_table_styles([dict(selector=\"th\",props=[('max-width', '70px')])])\n",
        "\n",
        "# Display the table.\n",
        "df_stats"
      ],
      "execution_count": null,
      "outputs": [
        {
          "output_type": "execute_result",
          "data": {
            "text/html": [
              "<div>\n",
              "<style scoped>\n",
              "    .dataframe tbody tr th:only-of-type {\n",
              "        vertical-align: middle;\n",
              "    }\n",
              "\n",
              "    .dataframe tbody tr th {\n",
              "        vertical-align: top;\n",
              "    }\n",
              "\n",
              "    .dataframe thead th {\n",
              "        text-align: right;\n",
              "    }\n",
              "</style>\n",
              "<table border=\"1\" class=\"dataframe\">\n",
              "  <thead>\n",
              "    <tr style=\"text-align: right;\">\n",
              "      <th></th>\n",
              "      <th>Training Loss</th>\n",
              "      <th>Valid. Loss</th>\n",
              "      <th>Valid. Accur.</th>\n",
              "      <th>Training Time</th>\n",
              "      <th>Validation Time</th>\n",
              "    </tr>\n",
              "    <tr>\n",
              "      <th>epoch</th>\n",
              "      <th></th>\n",
              "      <th></th>\n",
              "      <th></th>\n",
              "      <th></th>\n",
              "      <th></th>\n",
              "    </tr>\n",
              "  </thead>\n",
              "  <tbody>\n",
              "    <tr>\n",
              "      <th>1</th>\n",
              "      <td>0.39</td>\n",
              "      <td>0.33</td>\n",
              "      <td>0.85</td>\n",
              "      <td>0:07:26</td>\n",
              "      <td>0:00:14</td>\n",
              "    </tr>\n",
              "    <tr>\n",
              "      <th>2</th>\n",
              "      <td>0.25</td>\n",
              "      <td>0.33</td>\n",
              "      <td>0.86</td>\n",
              "      <td>0:07:25</td>\n",
              "      <td>0:00:14</td>\n",
              "    </tr>\n",
              "  </tbody>\n",
              "</table>\n",
              "</div>"
            ],
            "text/plain": [
              "       Training Loss  Valid. Loss  Valid. Accur. Training Time Validation Time\n",
              "epoch                                                                         \n",
              "1               0.39         0.33           0.85       0:07:26         0:00:14\n",
              "2               0.25         0.33           0.86       0:07:25         0:00:14"
            ]
          },
          "metadata": {
            "tags": []
          },
          "execution_count": 76
        }
      ]
    },
    {
      "cell_type": "code",
      "metadata": {
        "id": "68xreA9JAmG5",
        "colab": {
          "base_uri": "https://localhost:8080/",
          "height": 427
        },
        "outputId": "450f7e33-27bb-4e4e-e6ff-0120cc87b3b5"
      },
      "source": [
        "import matplotlib.pyplot as plt\n",
        "% matplotlib inline\n",
        "\n",
        "import seaborn as sns\n",
        "\n",
        "# Use plot styling from seaborn.\n",
        "sns.set(style='darkgrid')\n",
        "\n",
        "# Increase the plot size and font size.\n",
        "sns.set(font_scale=1.5)\n",
        "plt.rcParams[\"figure.figsize\"] = (12,6)\n",
        "\n",
        "# Plot the learning curve.\n",
        "plt.plot(df_stats['Training Loss'], 'b-o', label=\"Training\")\n",
        "plt.plot(df_stats['Valid. Loss'], 'g-o', label=\"Validation\")\n",
        "\n",
        "# Label the plot.\n",
        "plt.title(\"Training & Validation Loss\")\n",
        "plt.xlabel(\"Epoch\")\n",
        "plt.ylabel(\"Loss\")\n",
        "plt.legend()\n",
        "plt.xticks([1, 2, 3, 4])\n",
        "\n",
        "plt.show()"
      ],
      "execution_count": null,
      "outputs": [
        {
          "output_type": "display_data",
          "data": {
            "image/png": "[encoded data removed]",
            "text/plain": [
              "<Figure size 864x432 with 1 Axes>"
            ]
          },
          "metadata": {
            "tags": []
          }
        }
      ]
    },
    {
      "cell_type": "code",
      "metadata": {
        "id": "vqBPhlrLuarT"
      },
      "source": [
        "prediction_data = test_dataset\n",
        "prediction_sampler = SequentialSampler(prediction_data)\n",
        "prediction_dataloader = DataLoader(prediction_data, sampler=prediction_sampler, batch_size=32)"
      ],
      "execution_count": null,
      "outputs": []
    },
    {
      "cell_type": "code",
      "metadata": {
        "id": "Hba10sXR7Xi6",
        "colab": {
          "base_uri": "https://localhost:8080/"
        },
        "outputId": "467407ef-c32e-47f9-94e0-2193e7ec3a61"
      },
      "source": [
        "# Prediction on test set\n",
        "\n",
        "# print('Predicting labels for {:,} test sentences...'.format(len(input_ids)))\n",
        "\n",
        "# Put model in evaluation mode\n",
        "model.eval()\n",
        "\n",
        "# Tracking variables \n",
        "predictions , true_labels = [], []\n",
        "\n",
        "# Predict \n",
        "for batch in prediction_dataloader:\n",
        "  # Add batch to GPU\n",
        "  batch = tuple(t.to(device) for t in batch)\n",
        "  \n",
        "  # Unpack the inputs from our dataloader\n",
        "  b_input_ids, b_input_mask, b_labels = batch\n",
        "  \n",
        "  # Telling the model not to compute or store gradients, saving memory and \n",
        "  # speeding up prediction\n",
        "  with torch.no_grad():\n",
        "      # Forward pass, calculate logit predictions\n",
        "      outputs = model(b_input_ids, token_type_ids=None, \n",
        "                      attention_mask=b_input_mask)\n",
        "\n",
        "  logits = outputs[0]\n",
        "\n",
        "  # Move logits and labels to CPU\n",
        "  logits = logits.detach().cpu().numpy()\n",
        "  label_ids = b_labels.to('cpu').numpy()\n",
        "  \n",
        "  # Store predictions and true labels\n",
        "  predictions.append(logits)\n",
        "  true_labels.append(label_ids)\n",
        "\n",
        "print('    DONE.')"
      ],
      "execution_count": null,
      "outputs": [
        {
          "output_type": "stream",
          "text": [
            "Predicting labels for 99,999 test sentences...\n",
            "    DONE.\n"
          ],
          "name": "stdout"
        }
      ]
    },
    {
      "cell_type": "code",
      "metadata": {
        "id": "hWcy0X1hirdx",
        "colab": {
          "base_uri": "https://localhost:8080/"
        },
        "outputId": "3d891a51-27ee-41a1-f8ff-9bc32de4647f"
      },
      "source": [
        "print('Positive samples: %d of %d (%.2f%%)' % (df.label.sum(), len(df.label), (df.label.sum() / len(df.label) * 100.0)))"
      ],
      "execution_count": null,
      "outputs": [
        {
          "output_type": "stream",
          "text": [
            "Positive samples: 30000 of 99999 (30.00%)\n"
          ],
          "name": "stdout"
        }
      ]
    },
    {
      "cell_type": "code",
      "metadata": {
        "id": "oCYZa1lQ8Jn8",
        "colab": {
          "base_uri": "https://localhost:8080/"
        },
        "outputId": "3883937a-86a2-46b3-94cc-d6be6aa50a9b"
      },
      "source": [
        "# Combine the results across all batches. \n",
        "flat_predictions = np.concatenate(predictions, axis=0)\n",
        "\n",
        "# For each sample, pick the label (0 or 1) with the higher score.\n",
        "flat_predictions = np.argmax(flat_predictions, axis=1).flatten()\n",
        "\n",
        "# Combine the correct labels for each batch into a single list.\n",
        "flat_true_labels = np.concatenate(true_labels, axis=0)"
      ],
      "execution_count": null,
      "outputs": [
        {
          "output_type": "stream",
          "text": [
            "Total MCC: 0.655\n"
          ],
          "name": "stdout"
        }
      ]
    },
    {
      "cell_type": "code",
      "metadata": {
        "id": "ht040uaBE1dZ",
        "colab": {
          "base_uri": "https://localhost:8080/",
          "height": 599
        },
        "outputId": "9e5af377-052b-495f-bdf6-2cf124f19e12"
      },
      "source": [
        "import matplotlib.pyplot as plt\n",
        "from sklearn.metrics import accuracy_score, f1_score\n",
        "import itertools\n",
        "def plot_confusion_matrix(cm, classes,normalize=False,title='Confusion matrix',cmap=plt.cm.Blues):\n",
        "    plt.imshow(cm, interpolation='nearest', cmap=cmap)\n",
        "    plt.title(title)\n",
        "    plt.colorbar()\n",
        "    tick_marks = np.arange(len(classes))\n",
        "    plt.xticks(tick_marks, classes, rotation=45)\n",
        "    plt.yticks(tick_marks, classes)\n",
        "\n",
        "    if normalize:\n",
        "        cm = cm.astype('float') / cm.sum(axis=1)[:, np.newaxis]\n",
        "        print(\"Normalized confusion matrix\")\n",
        "    else:\n",
        "        print('Confusion matrix, without normalization')\n",
        "\n",
        "    thresh = cm.max() / 2.\n",
        "    for i, j in itertools.product(range(cm.shape[0]), range(cm.shape[1])):\n",
        "        print(j,i,cm[i,j])\n",
        "        plt.text(j, i, cm[i, j],\n",
        "                 horizontalalignment=\"center\",\n",
        "                 color=\"white\" if cm[i, j] > thresh else \"black\")\n",
        "\n",
        "    plt.tight_layout()\n",
        "    plt.ylabel('True label')\n",
        "    plt.xlabel('Predicted label')\n",
        "from sklearn import metrics\n",
        "cm = metrics.confusion_matrix(flat_true_labels, flat_predictions)\n",
        "plot_confusion_matrix(cm, classes=['FAKE', 'REAL'])\n",
        "print(accuracy_score(flat_true_labels, flat_predictions))\n",
        "print(f1_score(flat_true_labels, flat_predictions,average='macro'))\n",
        "print(f1_score(flat_true_labels, flat_predictions,average='weighted'))\n",
        "print(f1_score(flat_true_labels, flat_predictions,average='micro'))"
      ],
      "execution_count": null,
      "outputs": [
        {
          "output_type": "stream",
          "text": [
            "Confusion matrix, without normalization\n",
            "0 0 5303\n",
            "1 0 477\n",
            "0 1 674\n",
            "1 1 1736\n",
            "0.8594627594627595\n",
            "0.8265641737063929\n",
            "0.8576458204680848\n",
            "0.8594627594627595\n"
          ],
          "name": "stdout"
        },
        {
          "output_type": "display_data",
          "data": {
            "image/png": "[encoded data removed]",
            "text/plain": [
              "<Figure size 864x432 with 2 Axes>"
            ]
          },
          "metadata": {
            "tags": []
          }
        }
      ]
    },
    {
      "cell_type": "markdown",
      "metadata": {
        "id": "q2079Qyn8Mt8"
      },
      "source": [
        "## A1. Saving & Loading Fine-Tuned Model\n",
        "\n",
        "This first cell (taken from `run_glue.py` [here](https://github.com/huggingface/transformers/blob/35ff345fc9df9e777b27903f11fa213e4052595b/examples/run_glue.py#L495)) writes the model and tokenizer out to disk."
      ]
    },
    {
      "cell_type": "code",
      "metadata": {
        "id": "6ulTWaOr8QNY",
        "colab": {
          "base_uri": "https://localhost:8080/",
          "height": 84
        },
        "outputId": "a5517081-2e05-4244-c8df-77a9558ff75a"
      },
      "source": [
        "import os\n",
        "\n",
        "# Saving best-practices: if you use defaults names for the model, you can reload it using from_pretrained()\n",
        "\n",
        "output_dir = './model_save/'\n",
        "\n",
        "# Create output directory if needed\n",
        "if not os.path.exists(output_dir):\n",
        "    os.makedirs(output_dir)\n",
        "\n",
        "print(\"Saving model to %s\" % output_dir)\n",
        "\n",
        "# Save a trained model, configuration and tokenizer using `save_pretrained()`.\n",
        "# They can then be reloaded using `from_pretrained()`\n",
        "model_to_save = model.module if hasattr(model, 'module') else model  # Take care of distributed/parallel training\n",
        "model_to_save.save_pretrained(output_dir)\n",
        "tokenizer.save_pretrained(output_dir)\n",
        "\n",
        "# Good practice: save your training arguments together with the trained model\n",
        "# torch.save(args, os.path.join(output_dir, 'training_args.bin'))\n"
      ],
      "execution_count": null,
      "outputs": [
        {
          "output_type": "stream",
          "text": [
            "Saving model to ./model_save/\n"
          ],
          "name": "stdout"
        },
        {
          "output_type": "execute_result",
          "data": {
            "text/plain": [
              "('./model_save/vocab.txt',\n",
              " './model_save/special_tokens_map.json',\n",
              " './model_save/added_tokens.json')"
            ]
          },
          "metadata": {
            "tags": []
          },
          "execution_count": 75
        }
      ]
    },
    {
      "cell_type": "markdown",
      "metadata": {
        "id": "Z-tjHkR7lc1I"
      },
      "source": [
        "Let's check out the file sizes, out of curiosity."
      ]
    },
    {
      "cell_type": "code",
      "metadata": {
        "id": "mqMzI3VTCZo5",
        "colab": {
          "base_uri": "https://localhost:8080/",
          "height": 118
        },
        "outputId": "6df0b283-6458-4d95-8455-2e7537193d1b"
      },
      "source": [
        "!ls -l --block-size=K ./model_save/"
      ],
      "execution_count": null,
      "outputs": [
        {
          "output_type": "stream",
          "text": [
            "total 427960K\n",
            "-rw-r--r-- 1 root root      2K Mar 18 15:53 config.json\n",
            "-rw-r--r-- 1 root root 427719K Mar 18 15:53 pytorch_model.bin\n",
            "-rw-r--r-- 1 root root      1K Mar 18 15:53 special_tokens_map.json\n",
            "-rw-r--r-- 1 root root      1K Mar 18 15:53 tokenizer_config.json\n",
            "-rw-r--r-- 1 root root    227K Mar 18 15:53 vocab.txt\n"
          ],
          "name": "stdout"
        }
      ]
    },
    {
      "cell_type": "markdown",
      "metadata": {
        "id": "fr_bt2rFlgDn"
      },
      "source": [
        "The largest file is the model weights, at around 418 megabytes."
      ]
    },
    {
      "cell_type": "code",
      "metadata": {
        "id": "-WUFUIQ8Cu8D",
        "colab": {
          "base_uri": "https://localhost:8080/",
          "height": 34
        },
        "outputId": "70780762-7790-474f-e5c2-304a066945ae"
      },
      "source": [
        "!ls -l --block-size=M ./model_save/pytorch_model.bin"
      ],
      "execution_count": null,
      "outputs": [
        {
          "output_type": "stream",
          "text": [
            "-rw-r--r-- 1 root root 418M Mar 18 15:53 ./model_save/pytorch_model.bin\n"
          ],
          "name": "stdout"
        }
      ]
    },
    {
      "cell_type": "markdown",
      "metadata": {
        "id": "dzGKvOFAll_e"
      },
      "source": [
        "To save your model across Colab Notebook sessions, download it to your local machine, or ideally copy it to your Google Drive."
      ]
    },
    {
      "cell_type": "code",
      "metadata": {
        "id": "Trr-A-POC18_"
      },
      "source": [
        "# Mount Google Drive to this Notebook instance.\n",
        "from google.colab import drive\n",
        "    drive.mount('/content/drive')"
      ],
      "execution_count": null,
      "outputs": []
    },
    {
      "cell_type": "code",
      "metadata": {
        "id": "NxlZsafTC-V5"
      },
      "source": [
        "# Copy the model files to a directory in your Google Drive.\n",
        "!cp -r ./model_save/ \"./drive/Shared drives/ChrisMcCormick.AI/Blog Posts/BERT Fine-Tuning/\""
      ],
      "execution_count": null,
      "outputs": []
    },
    {
      "cell_type": "markdown",
      "metadata": {
        "id": "W0vstijw85SZ"
      },
      "source": [
        "The following functions will load the model back from disk."
      ]
    },
    {
      "cell_type": "code",
      "metadata": {
        "id": "nskPzUM084zL"
      },
      "source": [
        "# Load a trained model and vocabulary that you have fine-tuned\n",
        "model = model_class.from_pretrained(output_dir)\n",
        "tokenizer = tokenizer_class.from_pretrained(output_dir)\n",
        "\n",
        "# Copy the model to the GPU.\n",
        "model.to(device)"
      ],
      "execution_count": null,
      "outputs": []
    }
  ]
}